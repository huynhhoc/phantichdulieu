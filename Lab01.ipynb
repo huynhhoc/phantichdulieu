{
  "nbformat": 4,
  "nbformat_minor": 0,
  "metadata": {
    "colab": {
      "name": "Lab01.ipynb",
      "provenance": [],
      "authorship_tag": "ABX9TyPTh4kLX/wi8RhUyu1u+djH",
      "include_colab_link": true
    },
    "kernelspec": {
      "name": "python3",
      "display_name": "Python 3"
    },
    "language_info": {
      "name": "python"
    }
  },
  "cells": [
    {
      "cell_type": "markdown",
      "metadata": {
        "id": "view-in-github",
        "colab_type": "text"
      },
      "source": [
        "<a href=\"https://colab.research.google.com/github/huynhhoc/phantichdulieu/blob/main/Lab01.ipynb\" target=\"_parent\"><img src=\"https://colab.research.google.com/assets/colab-badge.svg\" alt=\"Open In Colab\"/></a>"
      ]
    },
    {
      "cell_type": "code",
      "execution_count": null,
      "metadata": {
        "colab": {
          "base_uri": "https://localhost:8080/"
        },
        "id": "QB1gdN1g3U9F",
        "outputId": "9c963263-592b-4880-fc6b-df4c098792da"
      },
      "outputs": [
        {
          "output_type": "stream",
          "name": "stdout",
          "text": [
            "Chào mừng các bạn đến với bài thực hành PTDL - Lab01\n"
          ]
        }
      ],
      "source": [
        "print(\"Chào mừng các bạn đến với bài thực hành PTDL - Lab01\")"
      ]
    },
    {
      "cell_type": "markdown",
      "source": [
        "Ghi chú"
      ],
      "metadata": {
        "id": "zijjABMq4C8c"
      }
    },
    {
      "cell_type": "code",
      "source": [
        "a = 7\n",
        "b = 8"
      ],
      "metadata": {
        "id": "gWZjHFNo4E5j"
      },
      "execution_count": null,
      "outputs": []
    },
    {
      "cell_type": "code",
      "source": [
        "c = a + b\n",
        "print (c)"
      ],
      "metadata": {
        "colab": {
          "base_uri": "https://localhost:8080/"
        },
        "id": "0muqwXva4Gwr",
        "outputId": "04fca487-dbe0-441e-c5d0-67e4fee6db4d"
      },
      "execution_count": null,
      "outputs": [
        {
          "output_type": "stream",
          "name": "stdout",
          "text": [
            "15\n"
          ]
        }
      ]
    }
  ]
}